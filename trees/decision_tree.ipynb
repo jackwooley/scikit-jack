{
 "cells": [
  {
   "cell_type": "markdown",
   "metadata": {},
   "source": [
    "A little decision tree implementation :)"
   ]
  },
  {
   "cell_type": "code",
   "execution_count": 1,
   "metadata": {},
   "outputs": [],
   "source": [
    "import numpy as np"
   ]
  },
  {
   "cell_type": "markdown",
   "metadata": {},
   "source": [
    "Originally I wrote this just to handle categorical/integer-valued data, but it can handle continuous data as well (it's just a lot slower). It needs a integer-valued target, though. "
   ]
  },
  {
   "cell_type": "code",
   "execution_count": 2,
   "metadata": {},
   "outputs": [],
   "source": [
    "np.random.seed(64)\n",
    "n_rows = 90\n",
    "seq1 = np.array([i % 5 for i in range(0, n_rows)])\n",
    "seq2 = np.array([i % 4 for i in range(0, n_rows)])\n",
    "seq3 = np.array([i % 7 for i in range(0, n_rows)])\n",
    "seq4 = np.array([i % 2 for i in range(0, n_rows)])\n",
    "# seq5 = np.array(np.sin(seq4) + np.cos(seq3) + np.random.random(n_rows))\n",
    "data = np.array(\n",
    "    [\n",
    "        seq1,\n",
    "        seq2,\n",
    "        seq3,\n",
    "        seq4,\n",
    "        # seq5,\n",
    "    ]\n",
    ").T\n",
    "# target = np.array([1 if (i % 3 == 0) else 0 for i in range(0, 50)])\n",
    "# target = np.array([i % 3 for i in range(0, n_rows)])\n",
    "target = np.array([0] * int((2*n_rows)/3) + [1] * int(n_rows/3))"
   ]
  },
  {
   "cell_type": "code",
   "execution_count": 3,
   "metadata": {},
   "outputs": [
    {
     "data": {
      "text/plain": [
       "{'feature': 2, 'value': np.int64(0)}"
      ]
     },
     "execution_count": 3,
     "metadata": {},
     "output_type": "execute_result"
    }
   ],
   "source": [
    "def gini(target_vec):\n",
    "    \"\"\"Get the Gini impurity for a vector\"\"\"\n",
    "    # feature vec needs to be filtered to only a certain value in the feature vector \n",
    "    # in the function where this is called\n",
    "    # target vector needs to be filtered to correct indices\n",
    "    target_unique = np.unique(target_vec)\n",
    "    p_is = np.zeros((len(target_unique),))\n",
    "    for i in range(len(target_unique)):\n",
    "        p_i = sum(target_vec == target_unique[i]) / len(target_vec)\n",
    "        p_is[i] = p_i\n",
    "    gini_info = 1 - sum(p_is**2)\n",
    "\n",
    "    return gini_info\n",
    "\n",
    "\n",
    "def split_decider(data_array, target_vec, verbose=False):\n",
    "    \"\"\"Based on Gini impurity, decide which feature/value to split on.\"\"\"\n",
    "    min_impurity = np.inf\n",
    "    split_feature_index = 0\n",
    "    split_feature_val = 0\n",
    "    for col in range(data_array.shape[1]):\n",
    "        feature = data_array[:, col]\n",
    "        feature_classes = np.unique(feature)\n",
    "        for j in range(len(feature_classes)):\n",
    "            feature_val = feature_classes[j]\n",
    "            # calculate gini impurity for every potential split\n",
    "            # (impurity of target vector filtered to indices where feature_vec == feature_val)\n",
    "            gini_impurity = gini(target_vec[feature == feature_val])\n",
    "            if verbose:\n",
    "               print(f'feature: {col}, class: {feature_val}, gini: {gini_impurity}')\n",
    "            if gini_impurity < min_impurity:\n",
    "                min_impurity = gini_impurity\n",
    "                split_feature_index = col\n",
    "                split_feature_val = feature_classes[j]\n",
    "\n",
    "    return {'feature': split_feature_index, 'value': split_feature_val}\n",
    "\n",
    "split_decider(data, target)"
   ]
  },
  {
   "cell_type": "markdown",
   "metadata": {},
   "source": [
    "This needs a little more validation. But upon preliminary inspection it looks like it's alright."
   ]
  },
  {
   "cell_type": "code",
   "execution_count": 4,
   "metadata": {},
   "outputs": [
    {
     "name": "stdout",
     "output_type": "stream",
     "text": [
      "splitting on 2\n",
      "(t) 9 0s in node (gini = 0.42603550295857995)\n",
      "(t) 4 1s in node (gini = 0.42603550295857995)\n",
      "(f) 51 0s in other node (gini = 0.4472929667734863)\n",
      "(f) 26 1s in other node (gini = 0.4472929667734863)\n",
      "splitting on 2\n",
      "(t) 9 0s in node (gini = 0.42603550295857995)\n",
      "(t) 4 1s in node (gini = 0.42603550295857995)\n",
      "(f) 42 0s in other node (gini = 0.451171875)\n",
      "(f) 22 1s in other node (gini = 0.451171875)\n",
      "splitting on 0\n",
      "(t) 9 0s in node (gini = 0.42603550295857995)\n",
      "(t) 4 1s in node (gini = 0.42603550295857995)\n",
      "(f) 33 0s in other node (gini = 0.45674740484429055)\n",
      "(f) 18 1s in other node (gini = 0.45674740484429055)\n",
      "splitting on 2\n",
      "(t) 7 0s in node (gini = 0.42000000000000004)\n",
      "(t) 3 1s in node (gini = 0.42000000000000004)\n",
      "(f) 26 0s in other node (gini = 0.46400951814396196)\n",
      "(f) 15 1s in other node (gini = 0.46400951814396196)\n",
      "splitting on 1\n",
      "(t) 7 0s in node (gini = 0.42000000000000004)\n",
      "(t) 3 1s in node (gini = 0.42000000000000004)\n",
      "(f) 19 0s in other node (gini = 0.47450572320499484)\n",
      "(f) 12 1s in other node (gini = 0.47450572320499484)\n",
      "splitting on 2\n",
      "(t) 5 0s in node (gini = 0.40816326530612246)\n",
      "(t) 2 1s in node (gini = 0.40816326530612246)\n",
      "(f) 14 0s in other node (gini = 0.48611111111111105)\n",
      "(f) 10 1s in other node (gini = 0.48611111111111105)\n",
      "splitting on 1\n",
      "(t) 5 0s in node (gini = 0.46875)\n",
      "(t) 3 1s in node (gini = 0.46875)\n",
      "(f) 9 0s in other node (gini = 0.4921875)\n",
      "(f) 7 1s in other node (gini = 0.4921875)\n",
      "splitting on 0\n",
      "(t) 2 0s in node (gini = 0.4444444444444444)\n",
      "(t) 1 1s in node (gini = 0.4444444444444444)\n",
      "(f) 7 0s in other node (gini = 0.4970414201183432)\n",
      "(f) 6 1s in other node (gini = 0.4970414201183432)\n",
      "splitting on 2\n",
      "(t) 3 0s in node (gini = 0.375)\n",
      "(t) 1 1s in node (gini = 0.375)\n",
      "(f) 4 0s in other node (gini = 0.49382716049382713)\n",
      "(f) 5 1s in other node (gini = 0.49382716049382713)\n",
      "splitting on 0\n",
      "(t) 1 0s in node (gini = 0.4444444444444444)\n",
      "(t) 2 1s in node (gini = 0.4444444444444444)\n",
      "(f) 3 0s in other node (gini = 0.5)\n",
      "(f) 3 1s in other node (gini = 0.5)\n",
      "splitting on 1\n",
      "(t) 1 0s in node (gini = 0.4444444444444444)\n",
      "(t) 2 1s in node (gini = 0.4444444444444444)\n",
      "(f) 2 0s in other node (gini = 0.4444444444444444)\n",
      "(f) 1 1s in other node (gini = 0.4444444444444444)\n",
      "splitting on 0\n",
      "(t) 1 0s in node (gini = 0.0)\n",
      "(f) 1 0s in other node (gini = 0.5)\n",
      "(f) 1 1s in other node (gini = 0.5)\n",
      "splitting on 2\n",
      "(t) 1 1s in node (gini = 0.0)\n",
      "(f) 1 0s in other node (gini = 0.0)\n",
      "done\n"
     ]
    }
   ],
   "source": [
    "def decision_tree(data_array, target_vec):\n",
    "    # take in a data matrix and target array\n",
    "    # get feature to split on + value to split on\n",
    "    # split dataset into two (data_array[feature == split_val] & data_array[feature != split_val])\n",
    "    # check if recursion break condition is met - maybe like gini is above a certain threshold?\n",
    "    # call decision tree function again to deepen tree\n",
    "    instructions = split_decider(data_array, target_vec)\n",
    "    print(f'splitting on {instructions[\"feature\"]}')\n",
    "    true_mask = data_array[:,instructions['feature']] == instructions['value']\n",
    "    false_mask = data_array[:,instructions['feature']] != instructions['value']\n",
    "    mat1 = data_array[true_mask, :]\n",
    "    mat2 = data_array[false_mask, :]\n",
    " \n",
    "    # prints updates out so you can see how the tree deepens\n",
    "    for i in np.unique(target_vec[true_mask]):\n",
    "        print(f'(t) {sum(target_vec[true_mask] == i)} {i}s in node (gini = {gini(target_vec[true_mask])})')\n",
    "    for i in np.unique(target_vec[false_mask]):\n",
    "        print(f'(f) {sum(target_vec[false_mask] == i)} {i}s in other node (gini = {gini(target_vec[false_mask])})')\n",
    "    \n",
    "    # break condition(s)\n",
    "    if ((gini(target_vec[true_mask]) <= .2) and (gini(target_vec[false_mask]) <= .2)) or \\\n",
    "        ((len(true_mask) <= (.2 * data_array.shape[0])) and (len(false_mask) <= (.2 * data_array.shape[0]))):\n",
    "        print('done')\n",
    "        return\n",
    "    \n",
    "    \n",
    "    if ((gini(target_vec[true_mask]) <= .2) or (len(true_mask) <= (.2 * data_array.shape[0]))) and \\\n",
    "    (gini(target_vec[false_mask]) >= .2) or (len(false_mask) >= (.2 * data_array.shape[0])):\n",
    "        decision_tree(mat2, target_vec[false_mask])\n",
    "\n",
    "    elif ((gini(target_vec[false_mask]) <= .2) or (len(false_mask) <= (.2 * data_array.shape[0]))) and \\\n",
    "        ((gini(target_vec[true_mask]) >= .2) or (len(true_mask) >= (.2 * data_array.shape[0]))):\n",
    "        decision_tree(mat1, target_vec[true_mask])\n",
    "    else:  # dead code for some of the test cases but i left it in here just in case\n",
    "        decision_tree(mat1, target_vec[true_mask])\n",
    "        decision_tree(mat2, target_vec[false_mask])\n",
    "    \n",
    "decision_tree(data, target)"
   ]
  }
 ],
 "metadata": {
  "kernelspec": {
   "display_name": ".venv",
   "language": "python",
   "name": "python3"
  },
  "language_info": {
   "codemirror_mode": {
    "name": "ipython",
    "version": 3
   },
   "file_extension": ".py",
   "mimetype": "text/x-python",
   "name": "python",
   "nbconvert_exporter": "python",
   "pygments_lexer": "ipython3",
   "version": "3.12.6"
  }
 },
 "nbformat": 4,
 "nbformat_minor": 2
}
