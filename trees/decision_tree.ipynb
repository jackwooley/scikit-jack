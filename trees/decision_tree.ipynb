{
 "cells": [
  {
   "cell_type": "code",
   "execution_count": 1,
   "metadata": {},
   "outputs": [],
   "source": [
    "import numpy as np"
   ]
  },
  {
   "cell_type": "code",
   "execution_count": 2,
   "metadata": {},
   "outputs": [],
   "source": [
    "np.random.seed(64)\n",
    "n_rows = 90\n",
    "seq1 = np.array([i % 5 for i in range(0, n_rows)])\n",
    "seq2 = np.array([i % 4 for i in range(0, n_rows)])\n",
    "seq3 = np.array([i % 7 for i in range(0, n_rows)])\n",
    "seq4 = np.array([i % 2 for i in range(0, n_rows)])\n",
    "data = np.array(\n",
    "    [\n",
    "        seq1,\n",
    "        seq2,\n",
    "        seq3,\n",
    "        seq4\n",
    "    ]\n",
    ").T\n",
    "# target = np.array([1 if (i % 3 == 0) else 0 for i in range(0, 50)])\n",
    "target = np.array([i % 3 for i in range(0, n_rows)])"
   ]
  },
  {
   "cell_type": "code",
   "execution_count": 3,
   "metadata": {},
   "outputs": [
    {
     "data": {
      "text/plain": [
       "array([2, 0, 1, 2, 0, 1, 2, 0, 1, 2, 0, 1, 2])"
      ]
     },
     "execution_count": 3,
     "metadata": {},
     "output_type": "execute_result"
    }
   ],
   "source": [
    "target[seq3 == 5]"
   ]
  },
  {
   "cell_type": "code",
   "execution_count": 4,
   "metadata": {},
   "outputs": [
    {
     "data": {
      "text/plain": [
       "{'feature': 2, 'value': np.int64(0)}"
      ]
     },
     "execution_count": 4,
     "metadata": {},
     "output_type": "execute_result"
    }
   ],
   "source": [
    "def gini(target_vec):\n",
    "    \"\"\"Get the Gini impurity for a vector\"\"\"\n",
    "    # feature vec needs to be filtered to only a certain class in the feature vector \n",
    "    # in the function where this is called\n",
    "    # target vector needs to be filtered to correct indices\n",
    "    target_unique = np.unique(target_vec)\n",
    "    p_is = np.zeros((len(target_unique),))\n",
    "    for i in range(len(target_unique)):\n",
    "        p_i = sum(target_vec == target_unique[i]) / len(target_vec)\n",
    "        p_is[i] = p_i\n",
    "    gini_info = 1 - sum(p_is**2)\n",
    "\n",
    "    return gini_info\n",
    "\n",
    "# gini('', target[seq4 == 1])\n",
    "\n",
    "def split_decider(data_array, target_vec, verbose=False):\n",
    "    \"\"\"Based on Gini impurity, decide which feature/value to split on.\"\"\"\n",
    "    min_impurity = np.inf\n",
    "    split_feature_index = 0\n",
    "    split_feature_val = 0\n",
    "    for col in range(data_array.shape[1]):\n",
    "        feature = data_array[:, col]\n",
    "        feature_classes = np.unique(feature)\n",
    "        for j in range(len(feature_classes)):\n",
    "            feature_val = feature_classes[j]\n",
    "            # calculate gini impurity for every potential split\n",
    "            # (impurity of target vector filtered to indices where feature_vec == feature_val)\n",
    "            gini_impurity = gini(target_vec[feature == feature_val])\n",
    "            if verbose:\n",
    "               print(f'feature: {col}, class: {feature_val}, gini: {gini_impurity}')\n",
    "            if gini_impurity < min_impurity:\n",
    "                min_impurity = gini_impurity\n",
    "                split_feature_index = col\n",
    "                split_feature_val = feature_classes[j]\n",
    "\n",
    "    return {'feature': split_feature_index, 'value': split_feature_val}\n",
    "\n",
    "split_decider(data, target)"
   ]
  },
  {
   "cell_type": "code",
   "execution_count": 10,
   "metadata": {},
   "outputs": [
    {
     "data": {
      "text/plain": [
       "'dawg'"
      ]
     },
     "execution_count": 10,
     "metadata": {},
     "output_type": "execute_result"
    }
   ],
   "source": [
    "def decision_tree(data_array, target_vec):\n",
    "    # take in a data matrix and target array\n",
    "    # get feature to split on + value to split on\n",
    "    # split dataset into two (data_array[feature == split_val] & data_array[feature != split_val])\n",
    "    # check if recursion break condition is met - maybe like gini is above a certain threshold?\n",
    "    # call decision tree function again to deepen tree\n",
    "    # what to return?? lol\n",
    "    instructions = split_decider(data_array, target_vec)\n",
    "    true_mask = data_array[:,instructions['feature']] == instructions['value']\n",
    "    false_mask = data_array[:,instructions['feature']] != instructions['value']\n",
    "    mat1 = data_array[true_mask, :]\n",
    "    mat2 = data_array[false_mask, :]\n",
    "    if (gini(target_vec[true_mask]) == 0) or (len(true_mask) <= (.05 * data_array.shape[1])):\n",
    "        return 'lol'\n",
    "    else:\n",
    "        decision_tree(mat1, target_vec[true_mask])\n",
    "        decision_tree(mat2, target_vec[false_mask])\n",
    "    return 'dawg'\n",
    "\n",
    "decision_tree(data, target)"
   ]
  }
 ],
 "metadata": {
  "kernelspec": {
   "display_name": ".venv",
   "language": "python",
   "name": "python3"
  },
  "language_info": {
   "codemirror_mode": {
    "name": "ipython",
    "version": 3
   },
   "file_extension": ".py",
   "mimetype": "text/x-python",
   "name": "python",
   "nbconvert_exporter": "python",
   "pygments_lexer": "ipython3",
   "version": "3.12.6"
  }
 },
 "nbformat": 4,
 "nbformat_minor": 2
}
