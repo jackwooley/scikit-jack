{
 "cells": [
  {
   "cell_type": "code",
   "execution_count": 1,
   "metadata": {},
   "outputs": [],
   "source": [
    "import numpy as np"
   ]
  },
  {
   "cell_type": "code",
   "execution_count": 24,
   "metadata": {},
   "outputs": [
    {
     "name": "stderr",
     "output_type": "stream",
     "text": [
      "/var/folders/51/6b4306h90693z7j7cd0g40kr0000gn/T/ipykernel_13866/3422886198.py:3: DeprecationWarning: This function is deprecated. Please call randint(1, 64 + 1) instead\n",
      "  seq = np.random.random_integers(1, 64, n_rows) ** 1/np.random.random_integers(2, 9, n_rows)\n",
      "/var/folders/51/6b4306h90693z7j7cd0g40kr0000gn/T/ipykernel_13866/3422886198.py:3: DeprecationWarning: This function is deprecated. Please call randint(2, 9 + 1) instead\n",
      "  seq = np.random.random_integers(1, 64, n_rows) ** 1/np.random.random_integers(2, 9, n_rows)\n"
     ]
    }
   ],
   "source": [
    "np.random.seed(64)\n",
    "n_rows = 50\n",
    "seq = np.random.random_integers(1, 64, n_rows) ** 1/np.random.random_integers(2, 9, n_rows)\n",
    "data = np.array([seq,\n",
    "        np.sin(seq),\n",
    "        np.tanh(seq) + np.random.random_sample(size=n_rows),\n",
    "        seq**(1/1.9)]).T\n",
    "target = np.array([1 if (i % 3 == 0) else 0 for i in range(0, 50)])"
   ]
  },
  {
   "cell_type": "code",
   "execution_count": null,
   "metadata": {},
   "outputs": [],
   "source": []
  }
 ],
 "metadata": {
  "kernelspec": {
   "display_name": ".venv",
   "language": "python",
   "name": "python3"
  },
  "language_info": {
   "codemirror_mode": {
    "name": "ipython",
    "version": 3
   },
   "file_extension": ".py",
   "mimetype": "text/x-python",
   "name": "python",
   "nbconvert_exporter": "python",
   "pygments_lexer": "ipython3",
   "version": "3.12.6"
  }
 },
 "nbformat": 4,
 "nbformat_minor": 2
}
